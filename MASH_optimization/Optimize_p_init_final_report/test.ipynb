{
 "cells": [
  {
   "cell_type": "code",
   "execution_count": 11,
   "metadata": {},
   "outputs": [],
   "source": [
    "import numpy as np\n",
    "from scipy.linalg import expm\n",
    "no_states = 7"
   ]
  },
  {
   "cell_type": "code",
   "execution_count": 12,
   "metadata": {},
   "outputs": [
    {
     "name": "stdout",
     "output_type": "stream",
     "text": [
      "[[0.  0.3 0.3 0.3 0.3 0.3 0.3]\n",
      " [0.3 0.  0.3 0.3 0.3 0.5 0.3]\n",
      " [0.3 0.3 0.  0.3 0.3 0.3 0.3]\n",
      " [0.3 0.3 0.3 0.  0.3 0.3 0.3]\n",
      " [0.3 0.3 0.7 0.3 0.  0.3 0.3]\n",
      " [0.3 0.3 0.3 0.3 0.3 0.  0.3]\n",
      " [0.3 0.3 0.3 0.3 0.3 0.3 0. ]]\n"
     ]
    }
   ],
   "source": [
    "# Defining a 7-state model, choosing the rate constants in a convenient way\n",
    "k_ij = np.full((no_states,no_states),0.3)\n",
    "k_ij[1][5]=0.5\n",
    "k_ij[4][2]=0.7\n",
    "np.fill_diagonal(k_ij, 0)\n",
    "print(k_ij)"
   ]
  },
  {
   "cell_type": "code",
   "execution_count": 13,
   "metadata": {},
   "outputs": [
    {
     "name": "stdout",
     "output_type": "stream",
     "text": [
      "[[-1.8  0.3  0.3  0.3  0.3  0.3  0.3]\n",
      " [ 0.3 -2.   0.3  0.3  0.3  0.5  0.3]\n",
      " [ 0.3  0.3 -1.8  0.3  0.3  0.3  0.3]\n",
      " [ 0.3  0.3  0.3 -1.8  0.3  0.3  0.3]\n",
      " [ 0.3  0.3  0.7  0.3 -2.2  0.3  0.3]\n",
      " [ 0.3  0.3  0.3  0.3  0.3 -1.8  0.3]\n",
      " [ 0.3  0.3  0.3  0.3  0.3  0.3 -1.8]]\n",
      "[1. 0. 0. 0. 0. 0. 0.]\n"
     ]
    }
   ],
   "source": [
    "# Dummy matrix linear algebra equations\n",
    "a = np.zeros((no_states, no_states)) #rate of going from state i to j, ii - sum of rates transitioning from i to all other states. (A*x = b)\n",
    "b = np.zeros(no_states)\n",
    "\n",
    "for i in range(no_states):\n",
    "    for j in range(no_states):\n",
    "        if i != j:\n",
    "            a[i, j] = k_ij[i, j]\n",
    "            a[i, i] -= k_ij[i, j]\n",
    "b[0] = 1 \n",
    "print(a)\n",
    "print(b)"
   ]
  },
  {
   "cell_type": "code",
   "execution_count": 14,
   "metadata": {},
   "outputs": [
    {
     "name": "stdout",
     "output_type": "stream",
     "text": [
      "[0.14285714 0.14285714 0.14285714 0.14285714 0.14285714 0.14285714\n",
      " 0.14285714]\n"
     ]
    }
   ],
   "source": [
    "#solving the lin alg equations to find pe\n",
    "equilibrium_populations = np.linalg.solve(a,b)\n",
    "equilibrium_populations /= np.sum(equilibrium_populations)\n",
    "print(equilibrium_populations)"
   ]
  },
  {
   "cell_type": "code",
   "execution_count": 15,
   "metadata": {},
   "outputs": [],
   "source": [
    "#Choosing an initial population vector\n",
    "p_init = np.array([1,0,0,0,0,0,0])\n",
    "#Choice of 21 kappas\n",
    "no_kappas = (no_states*(no_states-1))//2\n",
    "kappas= np.full(no_kappas,0.01) "
   ]
  },
  {
   "cell_type": "code",
   "execution_count": 16,
   "metadata": {},
   "outputs": [],
   "source": [
    "\n",
    "def listkap_matkappa(kappa):\n",
    "    matkappa = np.zeros((no_states,no_states))\n",
    "    triangle = np.triu(np.ones((no_states, no_states), dtype=bool), k=1) \n",
    "    matkappa[triangle]= kappa\n",
    "    matkappa += matkappa.T\n",
    "    return matkappa\n",
    "\n",
    "def matkappa_matr(kappa):\n",
    "    matkappa = listkap_matkappa(kappa)\n",
    "    matr = np.zeros((no_states,no_states)) \n",
    "    matr = matkappa * equilibrium_populations[:, np.newaxis] \n",
    "    rdiag = -np.sum(matr,0)\n",
    "    matr = matr + np.diag(rdiag)\n",
    "    return matr"
   ]
  },
  {
   "cell_type": "code",
   "execution_count": 17,
   "metadata": {},
   "outputs": [
    {
     "name": "stdout",
     "output_type": "stream",
     "text": [
      "[0.14285714 0.14285714 0.14285714 0.14285714 0.14285714 0.14285714\n",
      " 0.14285714]\n"
     ]
    }
   ],
   "source": [
    "matr = matkappa_matr(kappas)\n",
    "t_diff = 5000\n",
    "eq_pop_calc = expm(matr*t_diff).dot(p_init)\n",
    "print(eq_pop_calc)"
   ]
  },
  {
   "cell_type": "code",
   "execution_count": 18,
   "metadata": {},
   "outputs": [],
   "source": []
  }
 ],
 "metadata": {
  "kernelspec": {
   "display_name": "project1",
   "language": "python",
   "name": "python3"
  },
  "language_info": {
   "codemirror_mode": {
    "name": "ipython",
    "version": 3
   },
   "file_extension": ".py",
   "mimetype": "text/x-python",
   "name": "python",
   "nbconvert_exporter": "python",
   "pygments_lexer": "ipython3",
   "version": "3.11.5"
  }
 },
 "nbformat": 4,
 "nbformat_minor": 2
}
