{
 "cells": [
  {
   "cell_type": "code",
   "execution_count": null,
   "metadata": {},
   "outputs": [],
   "source": [
    "import matplotlib.pyplot as plt\n",
    "import numpy as np\n",
    "import matplotlib.animation as animation\n",
    "import os\n",
    "import ipywidgets as widgets\n",
    "from IPython.display import display"
   ]
  },
  {
   "cell_type": "code",
   "execution_count": null,
   "metadata": {},
   "outputs": [],
   "source": [
    "file_names = os.listdir(\"Window_data\")"
   ]
  },
  {
   "cell_type": "code",
   "execution_count": null,
   "metadata": {},
   "outputs": [],
   "source": [
    "def plot_file(file_index):\n",
    "    file = file_names[file_index]\n",
    "    data = np.loadtxt(file)\n",
    "\n",
    "    ax.clear()\n",
    "\n",
    "    for i in range(8):\n",
    "        c = \"C%i\"%i\n",
    "        ax.plot(data[:,0], data[:,i], label = f\"{i}_ls\", color = c)\n",
    "\n",
    "    ax.set_xlabel(\"Time\")\n",
    "    ax.set_ylabel(\"Population(1-n)\")\n",
    "    ax.legend(bbox_to_anchor=(1.04, 1), borderaxespad=0)\n",
    "    "
   ]
  },
  {
   "cell_type": "code",
   "execution_count": null,
   "metadata": {},
   "outputs": [],
   "source": [
    "slider = widgets.IntSlider(\n",
    "    value=1, min=1, max=len(file_names), step=1, description=\"Select File\"\n",
    ")"
   ]
  },
  {
   "cell_type": "code",
   "execution_count": null,
   "metadata": {},
   "outputs": [],
   "source": [
    "fig, ax = plt.subplots()\n",
    "plt.subplots_adjust(bottom=0.25)\n",
    "\n",
    "plot_file(slider.value)"
   ]
  },
  {
   "cell_type": "code",
   "execution_count": null,
   "metadata": {},
   "outputs": [],
   "source": [
    "#Function updates plot when slider changes\n",
    "def slider_change(change):\n",
    "    plot_file(change.new)\n",
    "\n",
    "# Connect the slider to the function\n",
    "slider.observe(slider_change, names=\"value\")\n",
    "\n",
    "# Display the plot and slider\n",
    "display(slider)"
   ]
  },
  {
   "cell_type": "code",
   "execution_count": null,
   "metadata": {},
   "outputs": [],
   "source": [
    "og_exciton_data = np.loadtxt(\"Data/mash_exc300K.dat\")\n",
    "for i in range(8):\n",
    "    c = \"C%i\"%i\n",
    "    ax.plot(og_exciton_data[:,0], og_exciton_data[:,i], label = f\"{i}\", color = c)\n",
    "\n",
    "plt.show()"
   ]
  }
 ],
 "metadata": {
  "kernelspec": {
   "display_name": "project1",
   "language": "python",
   "name": "python3"
  },
  "language_info": {
   "codemirror_mode": {
    "name": "ipython",
    "version": 3
   },
   "file_extension": ".py",
   "mimetype": "text/x-python",
   "name": "python",
   "nbconvert_exporter": "python",
   "pygments_lexer": "ipython3",
   "version": "3.11.5"
  }
 },
 "nbformat": 4,
 "nbformat_minor": 2
}
