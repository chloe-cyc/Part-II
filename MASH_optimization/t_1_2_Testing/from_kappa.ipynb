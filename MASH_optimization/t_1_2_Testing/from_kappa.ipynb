{
 "cells": [
  {
   "cell_type": "code",
   "execution_count": 75,
   "metadata": {},
   "outputs": [],
   "source": [
    "import numpy as np\n",
    "from scipy.linalg import expm\n",
    "import matplotlib.pyplot as plt\n",
    "import pandas as pd\n",
    "from scipy.optimize import least_squares"
   ]
  },
  {
   "cell_type": "markdown",
   "metadata": {},
   "source": [
    "# Functions"
   ]
  },
  {
   "cell_type": "code",
   "execution_count": 76,
   "metadata": {},
   "outputs": [],
   "source": [
    "def listkap_matkappa(kappa):\n",
    "    matkappa = np.zeros((no_states,no_states))\n",
    "    triangle = np.triu(np.ones((no_states, no_states), dtype=bool), k=1) \n",
    "    matkappa[triangle]= kappa\n",
    "    matkappa += matkappa.T\n",
    "    return matkappa\n",
    "\n",
    "def matkappa_matr(kappa):\n",
    "    matkappa = listkap_matkappa(kappa)\n",
    "    matr = np.zeros((no_states,no_states)) \n",
    "    matr = matkappa * eq_pop[:, np.newaxis] \n",
    "    rdiag = -np.sum(matr,0)\n",
    "    matr = matr + np.diag(rdiag)\n",
    "    return matr\n",
    "\n",
    "def p_model(exp_r_del_t, p_zero):\n",
    "    p_model = np.zeros((time_size,no_states))\n",
    "\n",
    "    p_model[0,:] = p_zero\n",
    "    for i in range(1,time_size):\n",
    "        p_model[i,:] = exp_r_del_t.dot(p_model[i-1,:])\n",
    "    return p_model\n"
   ]
  },
  {
   "cell_type": "markdown",
   "metadata": {},
   "source": [
    "# Residual for only kappa"
   ]
  },
  {
   "cell_type": "code",
   "execution_count": 77,
   "metadata": {},
   "outputs": [],
   "source": [
    "def residual_kappaonly(kappa):\n",
    "    r_of_t = matkappa_matr(kappa)\n",
    "    expm_rdelt = expm(r_of_t*del_t)\n",
    "    p_mod = p_model(expm_rdelt,p_zero)\n",
    "    residual = (population_data-p_mod).flatten()\n",
    "    return residual"
   ]
  },
  {
   "cell_type": "markdown",
   "metadata": {},
   "source": [
    "# Data"
   ]
  },
  {
   "cell_type": "code",
   "execution_count": 97,
   "metadata": {},
   "outputs": [
    {
     "name": "stdout",
     "output_type": "stream",
     "text": [
      "[0.3179426  0.20660395 0.20776209 0.12517032 0.06206283 0.02227419\n",
      " 0.05818402]\n"
     ]
    }
   ],
   "source": [
    "column_names = [\"Time\"]\n",
    "site_data_path = \"/u/dem/kebl6911/Part-II/MASH_optimization/Data/mash_site300K.dat\"\n",
    "\n",
    "for i in range(1,8):\n",
    "    column_names.append(str(i))\n",
    "site_df = pd.read_csv(site_data_path, delimiter=\" \", names=column_names)\n",
    "site_df = site_df[(site_df.index % 10 == 0) | (site_df.index == len(site_df.index) - 1)]\n",
    "site_eq = site_df.values \n",
    "full_time = site_df[\"Time\"].values\n",
    "#\n",
    "site_df = site_df[site_df[\"Time\"]<=1000]\n",
    "site_values = site_df.values\n",
    "site_full = site_values[:,1:]\n",
    "\n",
    "t0_to_t1_pop = site_values[site_values[:,0]<=800]\n",
    "\n",
    "t1_to_t2_pop = site_values[site_values[:,0]>800]\n",
    "t1_to_t3_time = full_time[full_time[:]>800]\n",
    "time_size = len(t1_to_t3_time)\n",
    "\n",
    "del_t = t1_to_t3_time[1]- t1_to_t3_time[0]\n",
    "no_states = 7\n",
    "eq_pop = site_eq[-1]\n",
    "eq_pop = eq_pop[1:8]\n",
    "\n",
    "p_zero = site_values[site_values[:,0]>800]\n",
    "p_zero = p_zero[0]\n",
    "p_zero_800 = p_zero[1:8]\n",
    "print(p_zero_800)"
   ]
  },
  {
   "cell_type": "markdown",
   "metadata": {},
   "source": [
    "# Residual for without p0"
   ]
  },
  {
   "cell_type": "code",
   "execution_count": 114,
   "metadata": {},
   "outputs": [
    {
     "name": "stdout",
     "output_type": "stream",
     "text": [
      "1\n",
      "2\n",
      "3\n",
      "4\n",
      "5\n",
      "6\n",
      "7\n",
      "8\n",
      "9\n",
      "10\n",
      "11\n",
      "12\n",
      "13\n",
      "14\n",
      "15\n",
      "16\n",
      "17\n",
      "18\n",
      "19\n",
      "20\n",
      "21\n",
      "22\n",
      "23\n",
      "24\n",
      "25\n",
      "26\n",
      "27\n",
      "28\n",
      "29\n",
      "30\n",
      "31\n",
      "32\n",
      "33\n",
      "34\n",
      "35\n",
      "36\n",
      "37\n",
      "38\n",
      "39\n",
      "40\n",
      "41\n"
     ]
    },
    {
     "name": "stderr",
     "output_type": "stream",
     "text": [
      "/u/dem/kebl6911/anaconda3/envs/project1/lib/python3.11/site-packages/numpy/core/fromnumeric.py:86: RuntimeWarning: overflow encountered in reduce\n",
      "  return ufunc.reduce(obj, axis, dtype, out, **passkwargs)\n"
     ]
    },
    {
     "name": "stdout",
     "output_type": "stream",
     "text": [
      "42\n",
      "43\n",
      "44\n",
      "45\n",
      "46\n",
      "47\n",
      "48\n",
      "49\n",
      "50\n",
      "51\n",
      "52\n",
      "53\n",
      "54\n",
      "55\n",
      "56\n",
      "57\n",
      "58\n",
      "59\n",
      "60\n",
      "61\n",
      "62\n",
      "63\n",
      "64\n",
      "65\n",
      "66\n",
      "67\n",
      "68\n",
      "69\n",
      "70\n",
      "71\n",
      "72\n",
      "73\n",
      "74\n",
      "75\n",
      "76\n",
      "77\n",
      "78\n",
      "79\n",
      "80\n",
      "81\n",
      "82\n",
      "83\n",
      "84\n",
      "85\n",
      "86\n",
      "87\n",
      "88\n",
      "89\n",
      "90\n",
      "91\n",
      "92\n",
      "93\n",
      "94\n",
      "95\n",
      "96\n",
      "97\n",
      "98\n",
      "99\n",
      "100\n",
      "101\n",
      "102\n",
      "103\n",
      "104\n",
      "105\n",
      "106\n",
      "107\n",
      "108\n",
      "109\n",
      "110\n",
      "111\n",
      "112\n",
      "113\n",
      "114\n",
      "115\n",
      "116\n",
      "117\n",
      "118\n",
      "119\n",
      "120\n",
      "121\n",
      "122\n",
      "123\n",
      "124\n",
      "125\n",
      "126\n",
      "127\n",
      "128\n",
      "129\n",
      "130\n",
      "131\n",
      "132\n",
      "133\n",
      "134\n",
      "135\n",
      "136\n",
      "137\n",
      "138\n",
      "139\n",
      "140\n",
      "141\n",
      "142\n",
      "143\n",
      "144\n",
      "145\n",
      "146\n",
      "147\n",
      "148\n",
      "149\n",
      "150\n",
      "151\n",
      "152\n",
      "153\n",
      "154\n",
      "155\n",
      "156\n"
     ]
    }
   ],
   "source": [
    "kappa_guess = np.full(21,0.01)\n",
    "kappa = kappa_guess\n",
    "\n",
    "t0_to_t1_time = full_time[full_time[:]<=800]\n",
    "start_time_values = t0_to_t1[:-10]\n",
    "\n",
    "t1_to_t2_time = full_time[full_time<=1000]\n",
    "t1_to_t2_time = t1_to_t2[t1_to_t2>800]\n",
    "\n",
    "save_kappas = []\n",
    "save_resid = []\n",
    "\n",
    "for index, start_time in enumerate(start_time_values, start=1):\n",
    "    print(index)\n",
    "\n",
    "    data_t0_t1 = t0_to_t1_pop[t0_to_t1_pop[:,0] >= start_time]\n",
    "    data_t0_t1 = data_t0_t1[:-10, :]\n",
    "    time_size = len(start_time_values)\n",
    "    data_t0_t1 = data_t0_t1[:,1:]\n",
    "    population_data = data_t0_t1[::-1]\n",
    "    p_zero = p_zero_800\n",
    "    del_t = -del_t\n",
    "    \n",
    "    least_squares_result = least_squares(residual_kappaonly, kappa, bounds=(0,float(\"inf\")))# verbose=0, xtol=None, ftol=1e-8) # bounds=(-float(\"inf\"),1e-17)\n",
    "\n",
    "    kappa_optimized = least_squares_result.x\n",
    "    save_kappas.append(kappa_optimized)\n",
    "    kappa = kappa_optimized\n",
    "    population_data = t1_to_t2_pop[:,1:]\n",
    "    time_size = len(t1_to_t2_time)\n",
    "    del_t = -del_t\n",
    "\n",
    "    resid = residual_kappaonly(kappa_optimized)\n",
    "    resid = np.sum(np.abs(resid))/(time_size*7)\n",
    "\n",
    "    save_resid.append(resid)\n",
    "\n",
    "save_kappas = np.column_stack((start_time_values,save_kappas))\n",
    "save_resid = np.column_stack((start_time_values,save_resid))\n",
    "\n",
    "np.savetxt(f\"/u/dem/kebl6911/Part-II/MASH_optimization/t_1_2_Testing/800_1000_resid3.dat\", save_resid, delimiter = \"\\t\")\n",
    "np.savetxt(f\"/u/dem/kebl6911/Part-II/MASH_optimization/t_1_2_Testing/800_1000_kap_saved3.dat\",save_kappas, delimiter = \"\\t\")\n"
   ]
  },
  {
   "cell_type": "code",
   "execution_count": 115,
   "metadata": {},
   "outputs": [
    {
     "data": {
      "text/plain": [
       "Text(0.5, 0, '$t_0$ [fs]')"
      ]
     },
     "execution_count": 115,
     "metadata": {},
     "output_type": "execute_result"
    },
    {
     "name": "stderr",
     "output_type": "stream",
     "text": [
      "/u/dem/kebl6911/anaconda3/envs/project1/lib/python3.11/site-packages/matplotlib/scale.py:253: RuntimeWarning: overflow encountered in power\n",
      "  return np.power(self.base, a)\n"
     ]
    },
    {
     "data": {
      "image/png": "[encoded data removed]",
      "text/plain": [
       "<Figure size 640x480 with 1 Axes>"
      ]
     },
     "metadata": {},
     "output_type": "display_data"
    }
   ],
   "source": [
    "site_residual_data = np.loadtxt(\"/u/dem/kebl6911/Part-II/MASH_optimization/t_1_2_Testing/800_1000_resid3.dat\")\n",
    "\n",
    "plt.semilogy(site_residual_data[:,0],site_residual_data[:,1])\n",
    "\n",
    "plt.ylabel('Residual, f')\n",
    "plt.xlabel(r'$t_0$ [fs]')"
   ]
  },
  {
   "cell_type": "markdown",
   "metadata": {},
   "source": [
    "# Kappa from 449.9 fs without optimizing p0"
   ]
  },
  {
   "cell_type": "code",
   "execution_count": 110,
   "metadata": {},
   "outputs": [
    {
     "name": "stdout",
     "output_type": "stream",
     "text": [
      "[7.65140863e-02 3.95959125e-55 3.09188818e-53 4.34028655e-51\n",
      " 4.18137098e-51 2.65150620e-51 3.39702461e-54 9.20540336e-52\n",
      " 3.39349786e-50 2.88065516e-49 4.45951611e-53 8.82748449e-02\n",
      " 3.23352913e-38 5.46699405e-01 2.67319719e-03 5.91179654e-40\n",
      " 2.78830176e-01 1.16991167e-01 9.07496139e-33 3.80754384e-46\n",
      " 5.73149393e-05]\n"
     ]
    }
   ],
   "source": [
    "kappas = np.loadtxt(\"/u/dem/kebl6911/Part-II/MASH_optimization/t_1_2_Testing/800_1000_kap_saved3.dat\")\n",
    "\n",
    "kappa_450 = kappas[64]\n",
    "\n",
    "kappa_450 = kappa_450[1:22]\n",
    "\n",
    "print(kappa_450)"
   ]
  },
  {
   "cell_type": "markdown",
   "metadata": {},
   "source": [
    "# Computing Populations from Kappa - 449.9 fs without optimizing p0"
   ]
  },
  {
   "cell_type": "code",
   "execution_count": 112,
   "metadata": {},
   "outputs": [],
   "source": [
    "time_size = len(t1_to_t3)\n",
    "r_matrix = matkappa_matr(kappa_450) \n",
    "expm_rt = expm(r_matrix*del_t)\n",
    "pop_450 = p_model(expm_rt, p_zero_800)\n",
    "\n",
    "pop_450 = np.column_stack((t1_to_t3, pop_450))\n",
    "np.savetxt(\"/u/dem/kebl6911/Part-II/MASH_optimization/t_1_2_Testing/pop_450.dat\", pop_450, delimiter = \"\\t\")"
   ]
  },
  {
   "cell_type": "code",
   "execution_count": 113,
   "metadata": {},
   "outputs": [
    {
     "name": "stderr",
     "output_type": "stream",
     "text": [
      "/u/dem/kebl6911/anaconda3/envs/project1/lib/python3.11/site-packages/matplotlib/axes/_base.py:2914: RuntimeWarning: overflow encountered in scalar subtract\n",
      "  delta = (x1t - x0t) * margin\n"
     ]
    },
    {
     "data": {
      "image/png": "[encoded data removed]",
      "text/plain": [
       "<Figure size 640x480 with 1 Axes>"
      ]
     },
     "metadata": {},
     "output_type": "display_data"
    }
   ],
   "source": [
    "site_data = np.loadtxt(site_data_path)\n",
    "\n",
    "saved_450 = np.loadtxt(\"/u/dem/kebl6911/Part-II/MASH_optimization/t_1_2_Testing/pop_450.dat\")\n",
    "\n",
    "for i, column_name in enumerate(column_names[1:], start=1):\n",
    "    c = \"C%i\"%i\n",
    "    plt.plot(site_data[:,0], site_data[:,i],\"--\", label=column_name, color=c)\n",
    "    plt.plot(saved_450[:,0],saved_450[:,i], \"-\",color=c)\n",
    "\n",
    "plt.ylim(0,0.5)\n",
    "plt.xlim(800,5000)\n",
    "plt.axvline(x=1000, linestyle = \":\")\n",
    "plt.show()"
   ]
  }
 ],
 "metadata": {
  "kernelspec": {
   "display_name": "project1",
   "language": "python",
   "name": "python3"
  },
  "language_info": {
   "codemirror_mode": {
    "name": "ipython",
    "version": 3
   },
   "file_extension": ".py",
   "mimetype": "text/x-python",
   "name": "python",
   "nbconvert_exporter": "python",
   "pygments_lexer": "ipython3",
   "version": "3.11.5"
  }
 },
 "nbformat": 4,
 "nbformat_minor": 2
}
