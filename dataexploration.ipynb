{
 "cells": [
  {
   "cell_type": "code",
   "execution_count": 1,
   "metadata": {},
   "outputs": [
    {
     "data": {
      "text/html": [
       "<div>\n",
       "<style scoped>\n",
       "    .dataframe tbody tr th:only-of-type {\n",
       "        vertical-align: middle;\n",
       "    }\n",
       "\n",
       "    .dataframe tbody tr th {\n",
       "        vertical-align: top;\n",
       "    }\n",
       "\n",
       "    .dataframe thead th {\n",
       "        text-align: right;\n",
       "    }\n",
       "</style>\n",
       "<table border=\"1\" class=\"dataframe\">\n",
       "  <thead>\n",
       "    <tr style=\"text-align: right;\">\n",
       "      <th></th>\n",
       "      <th>Population</th>\n",
       "      <th>1</th>\n",
       "      <th>2</th>\n",
       "      <th>3</th>\n",
       "      <th>4</th>\n",
       "      <th>5</th>\n",
       "      <th>6</th>\n",
       "      <th>7</th>\n",
       "    </tr>\n",
       "  </thead>\n",
       "  <tbody>\n",
       "    <tr>\n",
       "      <th>0</th>\n",
       "      <td>0.000000</td>\n",
       "      <td>1.000826</td>\n",
       "      <td>0.000986</td>\n",
       "      <td>-0.000622</td>\n",
       "      <td>-0.000570</td>\n",
       "      <td>-0.001975</td>\n",
       "      <td>0.000568</td>\n",
       "      <td>0.000787</td>\n",
       "    </tr>\n",
       "    <tr>\n",
       "      <th>1</th>\n",
       "      <td>0.483777</td>\n",
       "      <td>1.000824</td>\n",
       "      <td>0.000967</td>\n",
       "      <td>-0.000631</td>\n",
       "      <td>-0.000563</td>\n",
       "      <td>-0.001962</td>\n",
       "      <td>0.000577</td>\n",
       "      <td>0.000787</td>\n",
       "    </tr>\n",
       "    <tr>\n",
       "      <th>2</th>\n",
       "      <td>0.967554</td>\n",
       "      <td>1.000738</td>\n",
       "      <td>0.001004</td>\n",
       "      <td>-0.000634</td>\n",
       "      <td>-0.000554</td>\n",
       "      <td>-0.001932</td>\n",
       "      <td>0.000589</td>\n",
       "      <td>0.000789</td>\n",
       "    </tr>\n",
       "    <tr>\n",
       "      <th>3</th>\n",
       "      <td>1.451331</td>\n",
       "      <td>1.000568</td>\n",
       "      <td>0.001096</td>\n",
       "      <td>-0.000634</td>\n",
       "      <td>-0.000542</td>\n",
       "      <td>-0.001887</td>\n",
       "      <td>0.000606</td>\n",
       "      <td>0.000794</td>\n",
       "    </tr>\n",
       "    <tr>\n",
       "      <th>4</th>\n",
       "      <td>1.935108</td>\n",
       "      <td>1.000316</td>\n",
       "      <td>0.001242</td>\n",
       "      <td>-0.000631</td>\n",
       "      <td>-0.000524</td>\n",
       "      <td>-0.001830</td>\n",
       "      <td>0.000626</td>\n",
       "      <td>0.000801</td>\n",
       "    </tr>\n",
       "  </tbody>\n",
       "</table>\n",
       "</div>"
      ],
      "text/plain": [
       "   Population         1         2         3         4         5         6  \\\n",
       "0    0.000000  1.000826  0.000986 -0.000622 -0.000570 -0.001975  0.000568   \n",
       "1    0.483777  1.000824  0.000967 -0.000631 -0.000563 -0.001962  0.000577   \n",
       "2    0.967554  1.000738  0.001004 -0.000634 -0.000554 -0.001932  0.000589   \n",
       "3    1.451331  1.000568  0.001096 -0.000634 -0.000542 -0.001887  0.000606   \n",
       "4    1.935108  1.000316  0.001242 -0.000631 -0.000524 -0.001830  0.000626   \n",
       "\n",
       "          7  \n",
       "0  0.000787  \n",
       "1  0.000787  \n",
       "2  0.000789  \n",
       "3  0.000794  \n",
       "4  0.000801  "
      ]
     },
     "execution_count": 1,
     "metadata": {},
     "output_type": "execute_result"
    }
   ],
   "source": [
    "import pandas as pd\n",
    "import numpy as np\n",
    "\n",
    "excitation_data_path = \"mash_exc300K.dat\"\n",
    "column_names = [\"Population\",\"1\",\"2\",\"3\",\"4\",\"5\",\"6\",\"7\"] #Over Time in ps\n",
    "\n",
    "df = pd.read_csv(excitation_data_path,delimiter=\" \",names=column_names)\n",
    "\n",
    "df.head()"
   ]
  },
  {
   "cell_type": "code",
   "execution_count": 2,
   "metadata": {},
   "outputs": [
    {
     "data": {
      "text/plain": [
       "<function matplotlib.pyplot.show(close=None, block=None)>"
      ]
     },
     "execution_count": 2,
     "metadata": {},
     "output_type": "execute_result"
    },
    {
     "data": {
      "image/png": "[encoded data removed]",
      "text/plain": [
       "<Figure size 640x480 with 1 Axes>"
      ]
     },
     "metadata": {},
     "output_type": "display_data"
    }
   ],
   "source": [
    "import matplotlib.pyplot as plt\n",
    "\n",
    "for column_name in column_names[1:]:\n",
    "    plt.plot(df[\"Population\"], df[column_name],\".\", label=column_name)\n",
    "\n",
    "plt.xlabel(\"Time(ps)\")\n",
    "plt.ylabel(\"Population (1-n)\")\n",
    "plt.legend()\n",
    "\n",
    "plt.show\n"
   ]
  },
  {
   "cell_type": "code",
   "execution_count": 3,
   "metadata": {},
   "outputs": [
    {
     "name": "stdout",
     "output_type": "stream",
     "text": [
      "[[[1]\n",
      "  [1]]\n",
      "\n",
      " [[2]\n",
      "  [2]]\n",
      "\n",
      " [[3]\n",
      "  [3]]\n",
      "\n",
      " [[4]\n",
      "  [4]]]\n"
     ]
    }
   ],
   "source": [
    "import numpy as np\n",
    "\n",
    "# Define the two row matrices\n",
    "one = np.array([1, 2, 3, 4])\n",
    "two = np.array([1, 2, 3, 4])\n",
    "\n",
    "# Create an empty list to store the column vectors\n",
    "combined = []\n",
    "\n",
    "# Combine them into an array of column vectors\n",
    "for i in range(len(one)):\n",
    "    column_vector = np.array([[one[i]], [two[i]]])\n",
    "    combined.append(column_vector)\n",
    "\n",
    "# Convert the list of column vectors to a NumPy array\n",
    "combined = np.array(combined)\n",
    "\n",
    "# Print the result\n",
    "print(combined)\n"
   ]
  },
  {
   "cell_type": "code",
   "execution_count": 11,
   "metadata": {},
   "outputs": [
    {
     "name": "stdout",
     "output_type": "stream",
     "text": [
      "Index(['Time', '1', '2', '3', '4', '5', '6', '7'], dtype='object')\n"
     ]
    }
   ],
   "source": [
    "# DATA IMPORT - Using Pandas because it is easier to me\n",
    "column_names = [\"Time\"]\n",
    "excitation_data_path = \"/u/dem/kebl6911/Part-II/mash_exc300K.dat\"\n",
    "for i in range(1,8):\n",
    "    column_names.append(str(i))\n",
    "# Over Time in ps\n",
    "df = pd.read_csv(excitation_data_path, delimiter=\" \", names=column_names)\n",
    "filter = df.columns[df.all()>1999]\n",
    "\n",
    "print(df.columns)"
   ]
  },
  {
   "cell_type": "code",
   "execution_count": 13,
   "metadata": {},
   "outputs": [
    {
     "name": "stdout",
     "output_type": "stream",
     "text": [
      "[[ 1.00082626e+00  9.86249031e-04 -6.22233423e-04 ... -1.97547519e-03\n",
      "   5.67771323e-04  7.87157561e-04]\n",
      " [ 1.00082405e+00  9.67170757e-04 -6.30813056e-04 ... -1.96175856e-03\n",
      "   5.76966938e-04  7.87455408e-04]\n",
      " [ 1.00073774e+00  1.00408356e-03 -6.34449308e-04 ... -1.93186154e-03\n",
      "   5.89324013e-04  7.89322924e-04]\n",
      " ...\n",
      " [ 3.61337499e-01  2.12345297e-01  1.47390120e-01 ...  9.23677408e-02\n",
      "   5.44059159e-02  3.51988221e-02]\n",
      " [ 3.61317466e-01  2.12347941e-01  1.47414951e-01 ...  9.23921334e-02\n",
      "   5.43752272e-02  3.52004251e-02]\n",
      " [ 3.61296036e-01  2.12349385e-01  1.47439349e-01 ...  9.24196236e-02\n",
      "   5.43449609e-02  3.52016377e-02]]\n"
     ]
    }
   ],
   "source": [
    "#Selected columns to NP array of size 10001 x7\n",
    "time_t = df[\"Time\"].values\n",
    "\n",
    "data_column_names = column_names[1:]\n",
    "population_data = df[data_column_names]\n",
    "population_data = population_data.values"
   ]
  },
  {
   "cell_type": "code",
   "execution_count": 14,
   "metadata": {},
   "outputs": [],
   "source": [
    "#FIXED EQUILIBRIUM AND STARTING POPULATION\n",
    "#Defining the equilibrium population as the final population, \n",
    "eq_pop = population_data[-1]\n"
   ]
  }
 ],
 "metadata": {
  "kernelspec": {
   "display_name": "base",
   "language": "python",
   "name": "python3"
  },
  "language_info": {
   "codemirror_mode": {
    "name": "ipython",
    "version": 3
   },
   "file_extension": ".py",
   "mimetype": "text/x-python",
   "name": "python",
   "nbconvert_exporter": "python",
   "pygments_lexer": "ipython3",
   "version": "3.11.4"
  },
  "orig_nbformat": 4
 },
 "nbformat": 4,
 "nbformat_minor": 2
}
